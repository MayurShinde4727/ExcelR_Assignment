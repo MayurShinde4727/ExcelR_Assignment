{
  "nbformat": 4,
  "nbformat_minor": 0,
  "metadata": {
    "colab": {
      "name": "SVM_Assignment.ipynb",
      "provenance": [],
      "collapsed_sections": []
    },
    "kernelspec": {
      "name": "python3",
      "display_name": "Python 3"
    },
    "language_info": {
      "name": "python"
    }
  },
  "cells": [
    {
      "cell_type": "code",
      "metadata": {
        "id": "BBe2uzrq38_w"
      },
      "source": [
        "import pandas as pd\n",
        "import numpy as np\n",
        "import matplotlib.pyplot as plt\n",
        "import seaborn as sns\n",
        "from sklearn import svm\n",
        "from sklearn.svm import SVC\n",
        "from sklearn.svm import SVR\n",
        "from sklearn.preprocessing import MinMaxScaler\n",
        "from sklearn.preprocessing import LabelEncoder\n",
        "from sklearn.model_selection import train_test_split\n",
        "from sklearn.metrics import confusion_matrix\n",
        "from sklearn.metrics import accuracy_score\n",
        "from sklearn.model_selection import GridSearchCV"
      ],
      "execution_count": null,
      "outputs": []
    },
    {
      "cell_type": "code",
      "metadata": {
        "colab": {
          "base_uri": "https://localhost:8080/",
          "height": 307
        },
        "id": "BDPok6Tv6U6L",
        "outputId": "58ac668c-388c-4fe3-fef9-7d7cee13e610"
      },
      "source": [
        "data_train = pd.read_csv('SalaryData_Train.csv') #loading the dataset\n",
        "data_train.head()"
      ],
      "execution_count": null,
      "outputs": [
        {
          "output_type": "execute_result",
          "data": {
            "text/html": [
              "<div>\n",
              "<style scoped>\n",
              "    .dataframe tbody tr th:only-of-type {\n",
              "        vertical-align: middle;\n",
              "    }\n",
              "\n",
              "    .dataframe tbody tr th {\n",
              "        vertical-align: top;\n",
              "    }\n",
              "\n",
              "    .dataframe thead th {\n",
              "        text-align: right;\n",
              "    }\n",
              "</style>\n",
              "<table border=\"1\" class=\"dataframe\">\n",
              "  <thead>\n",
              "    <tr style=\"text-align: right;\">\n",
              "      <th></th>\n",
              "      <th>age</th>\n",
              "      <th>workclass</th>\n",
              "      <th>education</th>\n",
              "      <th>educationno</th>\n",
              "      <th>maritalstatus</th>\n",
              "      <th>occupation</th>\n",
              "      <th>relationship</th>\n",
              "      <th>race</th>\n",
              "      <th>sex</th>\n",
              "      <th>capitalgain</th>\n",
              "      <th>capitalloss</th>\n",
              "      <th>hoursperweek</th>\n",
              "      <th>native</th>\n",
              "      <th>Salary</th>\n",
              "    </tr>\n",
              "  </thead>\n",
              "  <tbody>\n",
              "    <tr>\n",
              "      <th>0</th>\n",
              "      <td>39</td>\n",
              "      <td>State-gov</td>\n",
              "      <td>Bachelors</td>\n",
              "      <td>13</td>\n",
              "      <td>Never-married</td>\n",
              "      <td>Adm-clerical</td>\n",
              "      <td>Not-in-family</td>\n",
              "      <td>White</td>\n",
              "      <td>Male</td>\n",
              "      <td>2174</td>\n",
              "      <td>0</td>\n",
              "      <td>40</td>\n",
              "      <td>United-States</td>\n",
              "      <td>&lt;=50K</td>\n",
              "    </tr>\n",
              "    <tr>\n",
              "      <th>1</th>\n",
              "      <td>50</td>\n",
              "      <td>Self-emp-not-inc</td>\n",
              "      <td>Bachelors</td>\n",
              "      <td>13</td>\n",
              "      <td>Married-civ-spouse</td>\n",
              "      <td>Exec-managerial</td>\n",
              "      <td>Husband</td>\n",
              "      <td>White</td>\n",
              "      <td>Male</td>\n",
              "      <td>0</td>\n",
              "      <td>0</td>\n",
              "      <td>13</td>\n",
              "      <td>United-States</td>\n",
              "      <td>&lt;=50K</td>\n",
              "    </tr>\n",
              "    <tr>\n",
              "      <th>2</th>\n",
              "      <td>38</td>\n",
              "      <td>Private</td>\n",
              "      <td>HS-grad</td>\n",
              "      <td>9</td>\n",
              "      <td>Divorced</td>\n",
              "      <td>Handlers-cleaners</td>\n",
              "      <td>Not-in-family</td>\n",
              "      <td>White</td>\n",
              "      <td>Male</td>\n",
              "      <td>0</td>\n",
              "      <td>0</td>\n",
              "      <td>40</td>\n",
              "      <td>United-States</td>\n",
              "      <td>&lt;=50K</td>\n",
              "    </tr>\n",
              "    <tr>\n",
              "      <th>3</th>\n",
              "      <td>53</td>\n",
              "      <td>Private</td>\n",
              "      <td>11th</td>\n",
              "      <td>7</td>\n",
              "      <td>Married-civ-spouse</td>\n",
              "      <td>Handlers-cleaners</td>\n",
              "      <td>Husband</td>\n",
              "      <td>Black</td>\n",
              "      <td>Male</td>\n",
              "      <td>0</td>\n",
              "      <td>0</td>\n",
              "      <td>40</td>\n",
              "      <td>United-States</td>\n",
              "      <td>&lt;=50K</td>\n",
              "    </tr>\n",
              "    <tr>\n",
              "      <th>4</th>\n",
              "      <td>28</td>\n",
              "      <td>Private</td>\n",
              "      <td>Bachelors</td>\n",
              "      <td>13</td>\n",
              "      <td>Married-civ-spouse</td>\n",
              "      <td>Prof-specialty</td>\n",
              "      <td>Wife</td>\n",
              "      <td>Black</td>\n",
              "      <td>Female</td>\n",
              "      <td>0</td>\n",
              "      <td>0</td>\n",
              "      <td>40</td>\n",
              "      <td>Cuba</td>\n",
              "      <td>&lt;=50K</td>\n",
              "    </tr>\n",
              "  </tbody>\n",
              "</table>\n",
              "</div>"
            ],
            "text/plain": [
              "   age          workclass   education  ...  hoursperweek          native  Salary\n",
              "0   39          State-gov   Bachelors  ...            40   United-States   <=50K\n",
              "1   50   Self-emp-not-inc   Bachelors  ...            13   United-States   <=50K\n",
              "2   38            Private     HS-grad  ...            40   United-States   <=50K\n",
              "3   53            Private        11th  ...            40   United-States   <=50K\n",
              "4   28            Private   Bachelors  ...            40            Cuba   <=50K\n",
              "\n",
              "[5 rows x 14 columns]"
            ]
          },
          "metadata": {},
          "execution_count": 26
        }
      ]
    },
    {
      "cell_type": "code",
      "metadata": {
        "id": "9rBQjcEUIG11"
      },
      "source": [
        "data_test = pd.read_csv('SalaryData_Test(1).csv') #loading the dataset"
      ],
      "execution_count": null,
      "outputs": []
    },
    {
      "cell_type": "code",
      "metadata": {
        "colab": {
          "base_uri": "https://localhost:8080/"
        },
        "id": "obZiDGPZ6gqQ",
        "outputId": "e2a026e3-9f53-4ccc-ad35-e31d1384a150"
      },
      "source": [
        "data_train.isnull().sum() #checking for null "
      ],
      "execution_count": null,
      "outputs": [
        {
          "output_type": "execute_result",
          "data": {
            "text/plain": [
              "age              0\n",
              "workclass        0\n",
              "education        0\n",
              "educationno      0\n",
              "maritalstatus    0\n",
              "occupation       0\n",
              "relationship     0\n",
              "race             0\n",
              "sex              0\n",
              "capitalgain      0\n",
              "capitalloss      0\n",
              "hoursperweek     0\n",
              "native           0\n",
              "Salary           0\n",
              "dtype: int64"
            ]
          },
          "metadata": {},
          "execution_count": 27
        }
      ]
    },
    {
      "cell_type": "code",
      "metadata": {
        "colab": {
          "base_uri": "https://localhost:8080/"
        },
        "id": "OXmFFojI6oTe",
        "outputId": "fcb8ea5a-6ac9-47f5-a42e-d7ffb5db1333"
      },
      "source": [
        "data_train.info()"
      ],
      "execution_count": null,
      "outputs": [
        {
          "output_type": "stream",
          "name": "stdout",
          "text": [
            "<class 'pandas.core.frame.DataFrame'>\n",
            "RangeIndex: 30161 entries, 0 to 30160\n",
            "Data columns (total 14 columns):\n",
            " #   Column         Non-Null Count  Dtype \n",
            "---  ------         --------------  ----- \n",
            " 0   age            30161 non-null  int64 \n",
            " 1   workclass      30161 non-null  object\n",
            " 2   education      30161 non-null  object\n",
            " 3   educationno    30161 non-null  int64 \n",
            " 4   maritalstatus  30161 non-null  object\n",
            " 5   occupation     30161 non-null  object\n",
            " 6   relationship   30161 non-null  object\n",
            " 7   race           30161 non-null  object\n",
            " 8   sex            30161 non-null  object\n",
            " 9   capitalgain    30161 non-null  int64 \n",
            " 10  capitalloss    30161 non-null  int64 \n",
            " 11  hoursperweek   30161 non-null  int64 \n",
            " 12  native         30161 non-null  object\n",
            " 13  Salary         30161 non-null  object\n",
            "dtypes: int64(5), object(9)\n",
            "memory usage: 3.2+ MB\n"
          ]
        }
      ]
    },
    {
      "cell_type": "code",
      "metadata": {
        "colab": {
          "base_uri": "https://localhost:8080/"
        },
        "id": "-EFEZB1w62Nk",
        "outputId": "587b679d-1572-4c5c-a211-4f52f09cdd63"
      },
      "source": [
        "print('workclass',data_train['workclass'].unique()) #unique data of columns\n",
        "print('education',data_train['education'].unique())\n",
        "print('maritalstatus',data_train['maritalstatus'].unique())\n",
        "print('occupation',data_train['occupation'].unique())\n",
        "print('relationship',data_train['relationship'].unique())\n",
        "print('race',data_train['race'].unique())\n",
        "print('sex',data_train['sex'].unique())\n",
        "print('native',data_train['native'].unique())"
      ],
      "execution_count": null,
      "outputs": [
        {
          "output_type": "stream",
          "name": "stdout",
          "text": [
            "workclass [' State-gov' ' Self-emp-not-inc' ' Private' ' Federal-gov' ' Local-gov'\n",
            " ' Self-emp-inc' ' Without-pay']\n",
            "education [' Bachelors' ' HS-grad' ' 11th' ' Masters' ' 9th' ' Some-college'\n",
            " ' Assoc-acdm' ' 7th-8th' ' Doctorate' ' Assoc-voc' ' Prof-school'\n",
            " ' 5th-6th' ' 10th' ' Preschool' ' 12th' ' 1st-4th']\n",
            "maritalstatus [' Never-married' ' Married-civ-spouse' ' Divorced'\n",
            " ' Married-spouse-absent' ' Separated' ' Married-AF-spouse' ' Widowed']\n",
            "occupation [' Adm-clerical' ' Exec-managerial' ' Handlers-cleaners' ' Prof-specialty'\n",
            " ' Other-service' ' Sales' ' Transport-moving' ' Farming-fishing'\n",
            " ' Machine-op-inspct' ' Tech-support' ' Craft-repair' ' Protective-serv'\n",
            " ' Armed-Forces' ' Priv-house-serv']\n",
            "relationship [' Not-in-family' ' Husband' ' Wife' ' Own-child' ' Unmarried'\n",
            " ' Other-relative']\n",
            "race [' White' ' Black' ' Asian-Pac-Islander' ' Amer-Indian-Eskimo' ' Other']\n",
            "sex [' Male' ' Female']\n",
            "native [' United-States' ' Cuba' ' Jamaica' ' India' ' Mexico' ' Puerto-Rico'\n",
            " ' Honduras' ' England' ' Canada' ' Germany' ' Iran' ' Philippines'\n",
            " ' Poland' ' Columbia' ' Cambodia' ' Thailand' ' Ecuador' ' Laos'\n",
            " ' Taiwan' ' Haiti' ' Portugal' ' Dominican-Republic' ' El-Salvador'\n",
            " ' France' ' Guatemala' ' Italy' ' China' ' South' ' Japan' ' Yugoslavia'\n",
            " ' Peru' ' Outlying-US(Guam-USVI-etc)' ' Scotland' ' Trinadad&Tobago'\n",
            " ' Greece' ' Nicaragua' ' Vietnam' ' Hong' ' Ireland' ' Hungary']\n"
          ]
        }
      ]
    },
    {
      "cell_type": "code",
      "metadata": {
        "id": "0GNgSW_M69Gr"
      },
      "source": [
        "data_train.education.replace(to_replace=' 11th',value='school',inplace= True) # changing the values of some columns for better model building\n",
        "data_train.education.replace(to_replace=' 9th',value='school',inplace=True)\n",
        "data_train.education.replace(to_replace=' 7th-8th',value='school',inplace=True)\n",
        "data_train.education.replace(to_replace=' 5th-6th',value='school',inplace=True)\n",
        "data_train.education.replace(to_replace=' 10th',value='school',inplace=True)\n",
        "data_train.education.replace(to_replace=' Preschool',value='school',inplace=True)\n",
        "data_train.education.replace(to_replace=' 12th',value='school',inplace=True)\n",
        "data_train.education.replace(to_replace=' 1st-4th',value='school',inplace=True)\n",
        "data_train.education.replace(to_replace=' Some-college',value='college',inplace=True)\n",
        "data_train.education.replace(to_replace=' Assoc-acdm',value='college',inplace=True)\n",
        "data_train.education.replace(to_replace=' Assoc-voc',value='college',inplace=True)"
      ],
      "execution_count": null,
      "outputs": []
    },
    {
      "cell_type": "code",
      "metadata": {
        "id": "ad3akenY7Aqs"
      },
      "source": [
        "data_train.maritalstatus.replace(' Never-married','Single',inplace=True)  # changing the values of some columns for better model building\n",
        "data_train.maritalstatus.replace(' Married-spouse-absent','Single',inplace=True)\n",
        "data_train.maritalstatus.replace(' Seperated','Single',inplace=True)\n",
        "data_train.maritalstatus.replace(' Divorced','Single',inplace=True)\n",
        "data_train.maritalstatus.replace(' Married-civ-spouse','Married',inplace=True)\n",
        "data_train.maritalstatus.replace(' Married-AF-spouse','Married',inplace=True)\n",
        "data_train.maritalstatus.replace(' Widowed','Widowed',inplace=True)"
      ],
      "execution_count": null,
      "outputs": []
    },
    {
      "cell_type": "code",
      "metadata": {
        "id": "fDNvbm1HIZZH"
      },
      "source": [
        "data_test.education.replace(to_replace=' 11th',value='school',inplace= True)  # changing the values of some columns for better model building\n",
        "data_test.education.replace(to_replace=' 9th',value='school',inplace=True)\n",
        "data_test.education.replace(to_replace=' 7th-8th',value='school',inplace=True)\n",
        "data_test.education.replace(to_replace=' 5th-6th',value='school',inplace=True)\n",
        "data_test.education.replace(to_replace=' 10th',value='school',inplace=True)\n",
        "data_test.education.replace(to_replace=' Preschool',value='school',inplace=True)\n",
        "data_test.education.replace(to_replace=' 12th',value='school',inplace=True)\n",
        "data_test.education.replace(to_replace=' 1st-4th',value='school',inplace=True)\n",
        "data_test.education.replace(to_replace=' Some-college',value='college',inplace=True)\n",
        "data_test.education.replace(to_replace=' Assoc-acdm',value='college',inplace=True)\n",
        "data_test.education.replace(to_replace=' Assoc-voc',value='college',inplace=True)"
      ],
      "execution_count": null,
      "outputs": []
    },
    {
      "cell_type": "code",
      "metadata": {
        "id": "HNEwMantIeX_"
      },
      "source": [
        "data_test.maritalstatus.replace(' Never-married','Single',inplace=True)  # changing the values of some columns for better model building\n",
        "data_test.maritalstatus.replace(' Married-spouse-absent','Single',inplace=True)\n",
        "data_test.maritalstatus.replace(' Seperated','Single',inplace=True)\n",
        "data_test.maritalstatus.replace(' Divorced','Single',inplace=True)\n",
        "data_test.maritalstatus.replace(' Married-civ-spouse','Married',inplace=True)\n",
        "data_test.maritalstatus.replace(' Married-AF-spouse','Married',inplace=True)\n",
        "data_test.maritalstatus.replace(' Widowed','Widowed',inplace=True)"
      ],
      "execution_count": null,
      "outputs": []
    },
    {
      "cell_type": "code",
      "metadata": {
        "colab": {
          "base_uri": "https://localhost:8080/",
          "height": 265
        },
        "id": "kzYESEfG7Z6s",
        "outputId": "3cbcf740-5c0b-463a-8722-e1cbfafbd249"
      },
      "source": [
        "data_train[['education', 'educationno']].groupby(['education'], as_index=False).mean().sort_values(by='educationno', ascending=False)"
      ],
      "execution_count": null,
      "outputs": [
        {
          "output_type": "execute_result",
          "data": {
            "text/html": [
              "<div>\n",
              "<style scoped>\n",
              "    .dataframe tbody tr th:only-of-type {\n",
              "        vertical-align: middle;\n",
              "    }\n",
              "\n",
              "    .dataframe tbody tr th {\n",
              "        vertical-align: top;\n",
              "    }\n",
              "\n",
              "    .dataframe thead th {\n",
              "        text-align: right;\n",
              "    }\n",
              "</style>\n",
              "<table border=\"1\" class=\"dataframe\">\n",
              "  <thead>\n",
              "    <tr style=\"text-align: right;\">\n",
              "      <th></th>\n",
              "      <th>education</th>\n",
              "      <th>educationno</th>\n",
              "    </tr>\n",
              "  </thead>\n",
              "  <tbody>\n",
              "    <tr>\n",
              "      <th>1</th>\n",
              "      <td>Doctorate</td>\n",
              "      <td>16.000000</td>\n",
              "    </tr>\n",
              "    <tr>\n",
              "      <th>4</th>\n",
              "      <td>Prof-school</td>\n",
              "      <td>15.000000</td>\n",
              "    </tr>\n",
              "    <tr>\n",
              "      <th>3</th>\n",
              "      <td>Masters</td>\n",
              "      <td>14.000000</td>\n",
              "    </tr>\n",
              "    <tr>\n",
              "      <th>0</th>\n",
              "      <td>Bachelors</td>\n",
              "      <td>13.000000</td>\n",
              "    </tr>\n",
              "    <tr>\n",
              "      <th>5</th>\n",
              "      <td>college</td>\n",
              "      <td>10.369551</td>\n",
              "    </tr>\n",
              "    <tr>\n",
              "      <th>2</th>\n",
              "      <td>HS-grad</td>\n",
              "      <td>9.000000</td>\n",
              "    </tr>\n",
              "    <tr>\n",
              "      <th>6</th>\n",
              "      <td>school</td>\n",
              "      <td>5.609730</td>\n",
              "    </tr>\n",
              "  </tbody>\n",
              "</table>\n",
              "</div>"
            ],
            "text/plain": [
              "      education  educationno\n",
              "1     Doctorate    16.000000\n",
              "4   Prof-school    15.000000\n",
              "3       Masters    14.000000\n",
              "0     Bachelors    13.000000\n",
              "5       college    10.369551\n",
              "2       HS-grad     9.000000\n",
              "6        school     5.609730"
            ]
          },
          "metadata": {},
          "execution_count": 32
        }
      ]
    },
    {
      "cell_type": "code",
      "metadata": {
        "colab": {
          "base_uri": "https://localhost:8080/",
          "height": 203
        },
        "id": "w40kmECF7dK8",
        "outputId": "fe77024b-8d61-437c-dd2d-6201a3eb0eb0"
      },
      "source": [
        "data_train.groupby('maritalstatus').mean() #understanding the marital column"
      ],
      "execution_count": null,
      "outputs": [
        {
          "output_type": "execute_result",
          "data": {
            "text/html": [
              "<div>\n",
              "<style scoped>\n",
              "    .dataframe tbody tr th:only-of-type {\n",
              "        vertical-align: middle;\n",
              "    }\n",
              "\n",
              "    .dataframe tbody tr th {\n",
              "        vertical-align: top;\n",
              "    }\n",
              "\n",
              "    .dataframe thead th {\n",
              "        text-align: right;\n",
              "    }\n",
              "</style>\n",
              "<table border=\"1\" class=\"dataframe\">\n",
              "  <thead>\n",
              "    <tr style=\"text-align: right;\">\n",
              "      <th></th>\n",
              "      <th>age</th>\n",
              "      <th>educationno</th>\n",
              "      <th>capitalgain</th>\n",
              "      <th>capitalloss</th>\n",
              "      <th>hoursperweek</th>\n",
              "    </tr>\n",
              "    <tr>\n",
              "      <th>maritalstatus</th>\n",
              "      <th></th>\n",
              "      <th></th>\n",
              "      <th></th>\n",
              "      <th></th>\n",
              "      <th></th>\n",
              "    </tr>\n",
              "  </thead>\n",
              "  <tbody>\n",
              "    <tr>\n",
              "      <th>Separated</th>\n",
              "      <td>39.397231</td>\n",
              "      <td>9.384452</td>\n",
              "      <td>573.953142</td>\n",
              "      <td>61.301384</td>\n",
              "      <td>39.709265</td>\n",
              "    </tr>\n",
              "    <tr>\n",
              "      <th>Married</th>\n",
              "      <td>42.752236</td>\n",
              "      <td>10.341261</td>\n",
              "      <td>1757.957121</td>\n",
              "      <td>123.380520</td>\n",
              "      <td>43.797813</td>\n",
              "    </tr>\n",
              "    <tr>\n",
              "      <th>Single</th>\n",
              "      <td>33.012090</td>\n",
              "      <td>10.007618</td>\n",
              "      <td>499.694598</td>\n",
              "      <td>56.160598</td>\n",
              "      <td>38.565798</td>\n",
              "    </tr>\n",
              "    <tr>\n",
              "      <th>Widowed</th>\n",
              "      <td>57.750907</td>\n",
              "      <td>9.178960</td>\n",
              "      <td>587.043531</td>\n",
              "      <td>77.610641</td>\n",
              "      <td>34.422007</td>\n",
              "    </tr>\n",
              "  </tbody>\n",
              "</table>\n",
              "</div>"
            ],
            "text/plain": [
              "                     age  educationno  capitalgain  capitalloss  hoursperweek\n",
              "maritalstatus                                                                \n",
              " Separated     39.397231     9.384452   573.953142    61.301384     39.709265\n",
              "Married        42.752236    10.341261  1757.957121   123.380520     43.797813\n",
              "Single         33.012090    10.007618   499.694598    56.160598     38.565798\n",
              "Widowed        57.750907     9.178960   587.043531    77.610641     34.422007"
            ]
          },
          "metadata": {},
          "execution_count": 33
        }
      ]
    },
    {
      "cell_type": "code",
      "metadata": {
        "id": "3oQe_Nss7tDk"
      },
      "source": [
        "le_workclass = LabelEncoder() #converting into categorical data\n",
        "le_education = LabelEncoder()\n",
        "le_marital = LabelEncoder()\n",
        "le_occupation = LabelEncoder()\n",
        "le_relation = LabelEncoder()\n",
        "le_race = LabelEncoder()\n",
        "le_sex = LabelEncoder()\n",
        "le_native = LabelEncoder()\n",
        "le_salary = LabelEncoder()"
      ],
      "execution_count": null,
      "outputs": []
    },
    {
      "cell_type": "code",
      "metadata": {
        "id": "UhFMDeE674Qk"
      },
      "source": [
        "data_train['workclass'] = le_workclass.fit_transform(data_train['workclass'])\n",
        "data_train['education'] = le_education.fit_transform(data_train['education'])\n",
        "data_train['maritalstatus'] = le_marital.fit_transform(data_train['maritalstatus'])\n",
        "data_train['occupation'] = le_occupation.fit_transform(data_train['occupation'])\n",
        "data_train['relationship'] = le_relation.fit_transform(data_train['relationship'])\n",
        "data_train['race'] = le_race.fit_transform(data_train['race'])\n",
        "data_train['sex'] = le_sex.fit_transform(data_train['sex'])\n",
        "data_train['native'] = le_native.fit_transform(data_train['native'])\n",
        "data_train['Salary'] = le_salary.fit_transform(data_train['Salary'])"
      ],
      "execution_count": null,
      "outputs": []
    },
    {
      "cell_type": "code",
      "metadata": {
        "id": "wNHhTlS8IjjH"
      },
      "source": [
        "data_test['workclass'] = le_workclass.fit_transform(data_test['workclass'])\n",
        "data_test['education'] = le_education.fit_transform(data_test['education'])\n",
        "data_test['maritalstatus'] = le_marital.fit_transform(data_test['maritalstatus'])\n",
        "data_test['occupation'] = le_occupation.fit_transform(data_test['occupation'])\n",
        "data_test['relationship'] = le_relation.fit_transform(data_test['relationship'])\n",
        "data_test['race'] = le_race.fit_transform(data_test['race'])\n",
        "data_test['sex'] = le_sex.fit_transform(data_test['sex'])\n",
        "data_test['native'] = le_native.fit_transform(data_test['native'])\n",
        "data_test['Salary'] = le_salary.fit_transform(data_test['Salary'])"
      ],
      "execution_count": null,
      "outputs": []
    },
    {
      "cell_type": "code",
      "metadata": {
        "colab": {
          "base_uri": "https://localhost:8080/",
          "height": 223
        },
        "id": "BxXvZDJc9EQr",
        "outputId": "f14adb59-c994-4787-9458-9bcfa33c186c"
      },
      "source": [
        "data_train.head()"
      ],
      "execution_count": null,
      "outputs": [
        {
          "output_type": "execute_result",
          "data": {
            "text/html": [
              "<div>\n",
              "<style scoped>\n",
              "    .dataframe tbody tr th:only-of-type {\n",
              "        vertical-align: middle;\n",
              "    }\n",
              "\n",
              "    .dataframe tbody tr th {\n",
              "        vertical-align: top;\n",
              "    }\n",
              "\n",
              "    .dataframe thead th {\n",
              "        text-align: right;\n",
              "    }\n",
              "</style>\n",
              "<table border=\"1\" class=\"dataframe\">\n",
              "  <thead>\n",
              "    <tr style=\"text-align: right;\">\n",
              "      <th></th>\n",
              "      <th>age</th>\n",
              "      <th>workclass</th>\n",
              "      <th>education</th>\n",
              "      <th>educationno</th>\n",
              "      <th>maritalstatus</th>\n",
              "      <th>occupation</th>\n",
              "      <th>relationship</th>\n",
              "      <th>race</th>\n",
              "      <th>sex</th>\n",
              "      <th>capitalgain</th>\n",
              "      <th>capitalloss</th>\n",
              "      <th>hoursperweek</th>\n",
              "      <th>native</th>\n",
              "      <th>Salary</th>\n",
              "    </tr>\n",
              "  </thead>\n",
              "  <tbody>\n",
              "    <tr>\n",
              "      <th>0</th>\n",
              "      <td>39</td>\n",
              "      <td>5</td>\n",
              "      <td>0</td>\n",
              "      <td>13</td>\n",
              "      <td>2</td>\n",
              "      <td>0</td>\n",
              "      <td>1</td>\n",
              "      <td>4</td>\n",
              "      <td>1</td>\n",
              "      <td>2174</td>\n",
              "      <td>0</td>\n",
              "      <td>40</td>\n",
              "      <td>37</td>\n",
              "      <td>0</td>\n",
              "    </tr>\n",
              "    <tr>\n",
              "      <th>1</th>\n",
              "      <td>50</td>\n",
              "      <td>4</td>\n",
              "      <td>0</td>\n",
              "      <td>13</td>\n",
              "      <td>1</td>\n",
              "      <td>3</td>\n",
              "      <td>0</td>\n",
              "      <td>4</td>\n",
              "      <td>1</td>\n",
              "      <td>0</td>\n",
              "      <td>0</td>\n",
              "      <td>13</td>\n",
              "      <td>37</td>\n",
              "      <td>0</td>\n",
              "    </tr>\n",
              "    <tr>\n",
              "      <th>2</th>\n",
              "      <td>38</td>\n",
              "      <td>2</td>\n",
              "      <td>2</td>\n",
              "      <td>9</td>\n",
              "      <td>2</td>\n",
              "      <td>5</td>\n",
              "      <td>1</td>\n",
              "      <td>4</td>\n",
              "      <td>1</td>\n",
              "      <td>0</td>\n",
              "      <td>0</td>\n",
              "      <td>40</td>\n",
              "      <td>37</td>\n",
              "      <td>0</td>\n",
              "    </tr>\n",
              "    <tr>\n",
              "      <th>3</th>\n",
              "      <td>53</td>\n",
              "      <td>2</td>\n",
              "      <td>6</td>\n",
              "      <td>7</td>\n",
              "      <td>1</td>\n",
              "      <td>5</td>\n",
              "      <td>0</td>\n",
              "      <td>2</td>\n",
              "      <td>1</td>\n",
              "      <td>0</td>\n",
              "      <td>0</td>\n",
              "      <td>40</td>\n",
              "      <td>37</td>\n",
              "      <td>0</td>\n",
              "    </tr>\n",
              "    <tr>\n",
              "      <th>4</th>\n",
              "      <td>28</td>\n",
              "      <td>2</td>\n",
              "      <td>0</td>\n",
              "      <td>13</td>\n",
              "      <td>1</td>\n",
              "      <td>9</td>\n",
              "      <td>5</td>\n",
              "      <td>2</td>\n",
              "      <td>0</td>\n",
              "      <td>0</td>\n",
              "      <td>0</td>\n",
              "      <td>40</td>\n",
              "      <td>4</td>\n",
              "      <td>0</td>\n",
              "    </tr>\n",
              "  </tbody>\n",
              "</table>\n",
              "</div>"
            ],
            "text/plain": [
              "   age  workclass  education  ...  hoursperweek  native  Salary\n",
              "0   39          5          0  ...            40      37       0\n",
              "1   50          4          0  ...            13      37       0\n",
              "2   38          2          2  ...            40      37       0\n",
              "3   53          2          6  ...            40      37       0\n",
              "4   28          2          0  ...            40       4       0\n",
              "\n",
              "[5 rows x 14 columns]"
            ]
          },
          "metadata": {},
          "execution_count": 36
        }
      ]
    },
    {
      "cell_type": "code",
      "metadata": {
        "id": "klNUgtfT-hT7"
      },
      "source": [
        "from numpy import set_printoptions # feature selection to drop unnecessary features\n",
        "from sklearn.feature_selection import SelectKBest\n",
        "from sklearn.feature_selection import chi2"
      ],
      "execution_count": null,
      "outputs": []
    },
    {
      "cell_type": "code",
      "metadata": {
        "id": "lFyOQr2b-oNB"
      },
      "source": [
        "X_train = data_train.iloc[:,0:13]\n",
        "Y_train = data_train.iloc[:,13]"
      ],
      "execution_count": null,
      "outputs": []
    },
    {
      "cell_type": "code",
      "metadata": {
        "colab": {
          "base_uri": "https://localhost:8080/"
        },
        "id": "1CjNAKwh-zCF",
        "outputId": "7904bd75-a9a5-42fa-f543-1c61c9d0c41a"
      },
      "source": [
        "feature = SelectKBest(score_func=chi2,k=5)\n",
        "fit =feature.fit(X_train,Y_train)\n",
        "set_printoptions(precision=3)\n",
        "print(fit.scores_)"
      ],
      "execution_count": null,
      "outputs": [
        {
          "output_type": "stream",
          "name": "stdout",
          "text": [
            "[7.927e+03 4.061e+00 1.200e+03 2.178e+03 8.584e+02 2.186e+02 3.435e+03\n",
            " 2.934e+01 4.592e+02 7.412e+07 1.259e+06 5.569e+03 1.671e+01]\n"
          ]
        }
      ]
    },
    {
      "cell_type": "code",
      "metadata": {
        "id": "ynDdMqbbCJfO"
      },
      "source": [
        "X_train = X_train.drop(['capitalgain','capitalloss'],axis=1) # droping the features wit less score"
      ],
      "execution_count": null,
      "outputs": []
    },
    {
      "cell_type": "code",
      "metadata": {
        "colab": {
          "base_uri": "https://localhost:8080/"
        },
        "id": "lvLwsjcjB5dS",
        "outputId": "8558ee10-508d-404a-dacd-2ef3106933da"
      },
      "source": [
        "X_train.shape"
      ],
      "execution_count": null,
      "outputs": [
        {
          "output_type": "execute_result",
          "data": {
            "text/plain": [
              "(30161, 11)"
            ]
          },
          "metadata": {},
          "execution_count": 59
        }
      ]
    },
    {
      "cell_type": "code",
      "metadata": {
        "colab": {
          "base_uri": "https://localhost:8080/",
          "height": 297
        },
        "id": "WRyAl4rUC0mp",
        "outputId": "12878f2b-72c9-4d8b-e163-c60cc62927d0"
      },
      "source": [
        "sns.countplot(y=data_train['Salary'],hue=data_train['Salary']) #visualisation for better understanding"
      ],
      "execution_count": null,
      "outputs": [
        {
          "output_type": "execute_result",
          "data": {
            "text/plain": [
              "<matplotlib.axes._subplots.AxesSubplot at 0x7fd26ecfaf10>"
            ]
          },
          "metadata": {},
          "execution_count": 44
        },
        {
          "output_type": "display_data",
          "data": {
            "image/png": "[encoded data removed]",
            "text/plain": [
              "<Figure size 432x288 with 1 Axes>"
            ]
          },
          "metadata": {
            "needs_background": "light"
          }
        }
      ]
    },
    {
      "cell_type": "code",
      "metadata": {
        "colab": {
          "base_uri": "https://localhost:8080/",
          "height": 236
        },
        "id": "5pgw94oNC7zI",
        "outputId": "c4c85034-7240-4903-d085-a1fe98167179"
      },
      "source": [
        "plt.style.use('seaborn-ticks')  #visualisation for better understanding\n",
        "plt.figure(figsize=(20,3)) \n",
        "sns.countplot(y=\"workclass\", data=data_train)"
      ],
      "execution_count": null,
      "outputs": [
        {
          "output_type": "execute_result",
          "data": {
            "text/plain": [
              "<matplotlib.axes._subplots.AxesSubplot at 0x7fd26ea54950>"
            ]
          },
          "metadata": {},
          "execution_count": 45
        },
        {
          "output_type": "display_data",
          "data": {
            "image/png": "[encoded data removed]",
            "text/plain": [
              "<Figure size 1440x216 with 1 Axes>"
            ]
          },
          "metadata": {}
        }
      ]
    },
    {
      "cell_type": "code",
      "metadata": {
        "id": "e-zxq6mzIq1f"
      },
      "source": [
        "X_test = data_test.iloc[:,0:13] #seperating into features and label\n",
        "Y_test = data_test.iloc[:,13]"
      ],
      "execution_count": null,
      "outputs": []
    },
    {
      "cell_type": "code",
      "metadata": {
        "id": "y3XpH6iZI8jL"
      },
      "source": [
        "X_test = X_test.drop(['capitalgain','capitalloss'],axis=1)"
      ],
      "execution_count": null,
      "outputs": []
    },
    {
      "cell_type": "code",
      "metadata": {
        "colab": {
          "base_uri": "https://localhost:8080/"
        },
        "id": "CUsiDBYzJCUj",
        "outputId": "3dfeade5-aa88-48c0-e104-e6b74df225cb"
      },
      "source": [
        "X_test.shape"
      ],
      "execution_count": null,
      "outputs": [
        {
          "output_type": "execute_result",
          "data": {
            "text/plain": [
              "(15060, 11)"
            ]
          },
          "metadata": {},
          "execution_count": 62
        }
      ]
    },
    {
      "cell_type": "markdown",
      "metadata": {
        "id": "748TtAH0CZym"
      },
      "source": [
        "Can't perform the hyperparameters tuning because of the computational limitation."
      ]
    },
    {
      "cell_type": "code",
      "metadata": {
        "colab": {
          "base_uri": "https://localhost:8080/"
        },
        "id": "NE2qVfPfJE2J",
        "outputId": "9852ad12-1a2b-43a5-ecfb-bc92e1c11c43"
      },
      "source": [
        "model = SVC(C=1,kernel='rbf') #model building\n",
        "model.fit(X_train,Y_train)\n"
      ],
      "execution_count": null,
      "outputs": [
        {
          "output_type": "execute_result",
          "data": {
            "text/plain": [
              "SVC(C=1, break_ties=False, cache_size=200, class_weight=None, coef0=0.0,\n",
              "    decision_function_shape='ovr', degree=3, gamma='scale', kernel='rbf',\n",
              "    max_iter=-1, probability=False, random_state=None, shrinking=True,\n",
              "    tol=0.001, verbose=False)"
            ]
          },
          "metadata": {},
          "execution_count": 74
        }
      ]
    },
    {
      "cell_type": "code",
      "metadata": {
        "id": "-MWY0doKJYrJ"
      },
      "source": [
        "pred = model.predict(X_test) #predicting the values"
      ],
      "execution_count": null,
      "outputs": []
    },
    {
      "cell_type": "code",
      "metadata": {
        "colab": {
          "base_uri": "https://localhost:8080/"
        },
        "id": "-1kyk6SDJ1H7",
        "outputId": "d0edd10f-7da4-4d56-ceb1-a0cdd71ce158"
      },
      "source": [
        "acc= accuracy_score(Y_test,pred) #checking for the accuracy\n",
        "print(acc)"
      ],
      "execution_count": null,
      "outputs": [
        {
          "output_type": "stream",
          "name": "stdout",
          "text": [
            "0.8083001328021249\n"
          ]
        }
      ]
    },
    {
      "cell_type": "markdown",
      "metadata": {
        "id": "2u8w1eV7QgKO"
      },
      "source": [
        "# Question 2"
      ]
    },
    {
      "cell_type": "code",
      "metadata": {
        "colab": {
          "base_uri": "https://localhost:8080/",
          "height": 223
        },
        "id": "gKwjnpq9QiXG",
        "outputId": "89426278-a1e3-4294-ffef-90dbc8e8ba00"
      },
      "source": [
        "forest = pd.read_csv('forestfires.csv') #loading the dataset\n",
        "forest.head()"
      ],
      "execution_count": null,
      "outputs": [
        {
          "output_type": "execute_result",
          "data": {
            "text/html": [
              "<div>\n",
              "<style scoped>\n",
              "    .dataframe tbody tr th:only-of-type {\n",
              "        vertical-align: middle;\n",
              "    }\n",
              "\n",
              "    .dataframe tbody tr th {\n",
              "        vertical-align: top;\n",
              "    }\n",
              "\n",
              "    .dataframe thead th {\n",
              "        text-align: right;\n",
              "    }\n",
              "</style>\n",
              "<table border=\"1\" class=\"dataframe\">\n",
              "  <thead>\n",
              "    <tr style=\"text-align: right;\">\n",
              "      <th></th>\n",
              "      <th>month</th>\n",
              "      <th>day</th>\n",
              "      <th>FFMC</th>\n",
              "      <th>DMC</th>\n",
              "      <th>DC</th>\n",
              "      <th>ISI</th>\n",
              "      <th>temp</th>\n",
              "      <th>RH</th>\n",
              "      <th>wind</th>\n",
              "      <th>rain</th>\n",
              "      <th>area</th>\n",
              "      <th>dayfri</th>\n",
              "      <th>daymon</th>\n",
              "      <th>daysat</th>\n",
              "      <th>daysun</th>\n",
              "      <th>daythu</th>\n",
              "      <th>daytue</th>\n",
              "      <th>daywed</th>\n",
              "      <th>monthapr</th>\n",
              "      <th>monthaug</th>\n",
              "      <th>monthdec</th>\n",
              "      <th>monthfeb</th>\n",
              "      <th>monthjan</th>\n",
              "      <th>monthjul</th>\n",
              "      <th>monthjun</th>\n",
              "      <th>monthmar</th>\n",
              "      <th>monthmay</th>\n",
              "      <th>monthnov</th>\n",
              "      <th>monthoct</th>\n",
              "      <th>monthsep</th>\n",
              "      <th>size_category</th>\n",
              "    </tr>\n",
              "  </thead>\n",
              "  <tbody>\n",
              "    <tr>\n",
              "      <th>0</th>\n",
              "      <td>mar</td>\n",
              "      <td>fri</td>\n",
              "      <td>86.2</td>\n",
              "      <td>26.2</td>\n",
              "      <td>94.3</td>\n",
              "      <td>5.1</td>\n",
              "      <td>8.2</td>\n",
              "      <td>51</td>\n",
              "      <td>6.7</td>\n",
              "      <td>0.0</td>\n",
              "      <td>0.0</td>\n",
              "      <td>1</td>\n",
              "      <td>0</td>\n",
              "      <td>0</td>\n",
              "      <td>0</td>\n",
              "      <td>0</td>\n",
              "      <td>0</td>\n",
              "      <td>0</td>\n",
              "      <td>0</td>\n",
              "      <td>0</td>\n",
              "      <td>0</td>\n",
              "      <td>0</td>\n",
              "      <td>0</td>\n",
              "      <td>0</td>\n",
              "      <td>0</td>\n",
              "      <td>1</td>\n",
              "      <td>0</td>\n",
              "      <td>0</td>\n",
              "      <td>0</td>\n",
              "      <td>0</td>\n",
              "      <td>small</td>\n",
              "    </tr>\n",
              "    <tr>\n",
              "      <th>1</th>\n",
              "      <td>oct</td>\n",
              "      <td>tue</td>\n",
              "      <td>90.6</td>\n",
              "      <td>35.4</td>\n",
              "      <td>669.1</td>\n",
              "      <td>6.7</td>\n",
              "      <td>18.0</td>\n",
              "      <td>33</td>\n",
              "      <td>0.9</td>\n",
              "      <td>0.0</td>\n",
              "      <td>0.0</td>\n",
              "      <td>0</td>\n",
              "      <td>0</td>\n",
              "      <td>0</td>\n",
              "      <td>0</td>\n",
              "      <td>0</td>\n",
              "      <td>1</td>\n",
              "      <td>0</td>\n",
              "      <td>0</td>\n",
              "      <td>0</td>\n",
              "      <td>0</td>\n",
              "      <td>0</td>\n",
              "      <td>0</td>\n",
              "      <td>0</td>\n",
              "      <td>0</td>\n",
              "      <td>0</td>\n",
              "      <td>0</td>\n",
              "      <td>0</td>\n",
              "      <td>1</td>\n",
              "      <td>0</td>\n",
              "      <td>small</td>\n",
              "    </tr>\n",
              "    <tr>\n",
              "      <th>2</th>\n",
              "      <td>oct</td>\n",
              "      <td>sat</td>\n",
              "      <td>90.6</td>\n",
              "      <td>43.7</td>\n",
              "      <td>686.9</td>\n",
              "      <td>6.7</td>\n",
              "      <td>14.6</td>\n",
              "      <td>33</td>\n",
              "      <td>1.3</td>\n",
              "      <td>0.0</td>\n",
              "      <td>0.0</td>\n",
              "      <td>0</td>\n",
              "      <td>0</td>\n",
              "      <td>1</td>\n",
              "      <td>0</td>\n",
              "      <td>0</td>\n",
              "      <td>0</td>\n",
              "      <td>0</td>\n",
              "      <td>0</td>\n",
              "      <td>0</td>\n",
              "      <td>0</td>\n",
              "      <td>0</td>\n",
              "      <td>0</td>\n",
              "      <td>0</td>\n",
              "      <td>0</td>\n",
              "      <td>0</td>\n",
              "      <td>0</td>\n",
              "      <td>0</td>\n",
              "      <td>1</td>\n",
              "      <td>0</td>\n",
              "      <td>small</td>\n",
              "    </tr>\n",
              "    <tr>\n",
              "      <th>3</th>\n",
              "      <td>mar</td>\n",
              "      <td>fri</td>\n",
              "      <td>91.7</td>\n",
              "      <td>33.3</td>\n",
              "      <td>77.5</td>\n",
              "      <td>9.0</td>\n",
              "      <td>8.3</td>\n",
              "      <td>97</td>\n",
              "      <td>4.0</td>\n",
              "      <td>0.2</td>\n",
              "      <td>0.0</td>\n",
              "      <td>1</td>\n",
              "      <td>0</td>\n",
              "      <td>0</td>\n",
              "      <td>0</td>\n",
              "      <td>0</td>\n",
              "      <td>0</td>\n",
              "      <td>0</td>\n",
              "      <td>0</td>\n",
              "      <td>0</td>\n",
              "      <td>0</td>\n",
              "      <td>0</td>\n",
              "      <td>0</td>\n",
              "      <td>0</td>\n",
              "      <td>0</td>\n",
              "      <td>1</td>\n",
              "      <td>0</td>\n",
              "      <td>0</td>\n",
              "      <td>0</td>\n",
              "      <td>0</td>\n",
              "      <td>small</td>\n",
              "    </tr>\n",
              "    <tr>\n",
              "      <th>4</th>\n",
              "      <td>mar</td>\n",
              "      <td>sun</td>\n",
              "      <td>89.3</td>\n",
              "      <td>51.3</td>\n",
              "      <td>102.2</td>\n",
              "      <td>9.6</td>\n",
              "      <td>11.4</td>\n",
              "      <td>99</td>\n",
              "      <td>1.8</td>\n",
              "      <td>0.0</td>\n",
              "      <td>0.0</td>\n",
              "      <td>0</td>\n",
              "      <td>0</td>\n",
              "      <td>0</td>\n",
              "      <td>1</td>\n",
              "      <td>0</td>\n",
              "      <td>0</td>\n",
              "      <td>0</td>\n",
              "      <td>0</td>\n",
              "      <td>0</td>\n",
              "      <td>0</td>\n",
              "      <td>0</td>\n",
              "      <td>0</td>\n",
              "      <td>0</td>\n",
              "      <td>0</td>\n",
              "      <td>1</td>\n",
              "      <td>0</td>\n",
              "      <td>0</td>\n",
              "      <td>0</td>\n",
              "      <td>0</td>\n",
              "      <td>small</td>\n",
              "    </tr>\n",
              "  </tbody>\n",
              "</table>\n",
              "</div>"
            ],
            "text/plain": [
              "  month  day  FFMC   DMC  ...  monthnov  monthoct  monthsep  size_category\n",
              "0   mar  fri  86.2  26.2  ...         0         0         0          small\n",
              "1   oct  tue  90.6  35.4  ...         0         1         0          small\n",
              "2   oct  sat  90.6  43.7  ...         0         1         0          small\n",
              "3   mar  fri  91.7  33.3  ...         0         0         0          small\n",
              "4   mar  sun  89.3  51.3  ...         0         0         0          small\n",
              "\n",
              "[5 rows x 31 columns]"
            ]
          },
          "metadata": {},
          "execution_count": 25
        }
      ]
    },
    {
      "cell_type": "code",
      "metadata": {
        "id": "fEWJGzJxQosS"
      },
      "source": [
        "forest = forest.iloc[:,0:11]"
      ],
      "execution_count": null,
      "outputs": []
    },
    {
      "cell_type": "code",
      "metadata": {
        "colab": {
          "base_uri": "https://localhost:8080/",
          "height": 295
        },
        "id": "dJ39irhbQ3wK",
        "outputId": "8180630f-6978-4c62-ce87-4410ba2ad5d1"
      },
      "source": [
        "forest.describe()"
      ],
      "execution_count": null,
      "outputs": [
        {
          "output_type": "execute_result",
          "data": {
            "text/html": [
              "<div>\n",
              "<style scoped>\n",
              "    .dataframe tbody tr th:only-of-type {\n",
              "        vertical-align: middle;\n",
              "    }\n",
              "\n",
              "    .dataframe tbody tr th {\n",
              "        vertical-align: top;\n",
              "    }\n",
              "\n",
              "    .dataframe thead th {\n",
              "        text-align: right;\n",
              "    }\n",
              "</style>\n",
              "<table border=\"1\" class=\"dataframe\">\n",
              "  <thead>\n",
              "    <tr style=\"text-align: right;\">\n",
              "      <th></th>\n",
              "      <th>FFMC</th>\n",
              "      <th>DMC</th>\n",
              "      <th>DC</th>\n",
              "      <th>ISI</th>\n",
              "      <th>temp</th>\n",
              "      <th>RH</th>\n",
              "      <th>wind</th>\n",
              "      <th>rain</th>\n",
              "      <th>area</th>\n",
              "    </tr>\n",
              "  </thead>\n",
              "  <tbody>\n",
              "    <tr>\n",
              "      <th>count</th>\n",
              "      <td>517.000000</td>\n",
              "      <td>517.000000</td>\n",
              "      <td>517.000000</td>\n",
              "      <td>517.000000</td>\n",
              "      <td>517.000000</td>\n",
              "      <td>517.000000</td>\n",
              "      <td>517.000000</td>\n",
              "      <td>517.000000</td>\n",
              "      <td>517.000000</td>\n",
              "    </tr>\n",
              "    <tr>\n",
              "      <th>mean</th>\n",
              "      <td>90.644681</td>\n",
              "      <td>110.872340</td>\n",
              "      <td>547.940039</td>\n",
              "      <td>9.021663</td>\n",
              "      <td>18.889168</td>\n",
              "      <td>44.288201</td>\n",
              "      <td>4.017602</td>\n",
              "      <td>0.021663</td>\n",
              "      <td>12.847292</td>\n",
              "    </tr>\n",
              "    <tr>\n",
              "      <th>std</th>\n",
              "      <td>5.520111</td>\n",
              "      <td>64.046482</td>\n",
              "      <td>248.066192</td>\n",
              "      <td>4.559477</td>\n",
              "      <td>5.806625</td>\n",
              "      <td>16.317469</td>\n",
              "      <td>1.791653</td>\n",
              "      <td>0.295959</td>\n",
              "      <td>63.655818</td>\n",
              "    </tr>\n",
              "    <tr>\n",
              "      <th>min</th>\n",
              "      <td>18.700000</td>\n",
              "      <td>1.100000</td>\n",
              "      <td>7.900000</td>\n",
              "      <td>0.000000</td>\n",
              "      <td>2.200000</td>\n",
              "      <td>15.000000</td>\n",
              "      <td>0.400000</td>\n",
              "      <td>0.000000</td>\n",
              "      <td>0.000000</td>\n",
              "    </tr>\n",
              "    <tr>\n",
              "      <th>25%</th>\n",
              "      <td>90.200000</td>\n",
              "      <td>68.600000</td>\n",
              "      <td>437.700000</td>\n",
              "      <td>6.500000</td>\n",
              "      <td>15.500000</td>\n",
              "      <td>33.000000</td>\n",
              "      <td>2.700000</td>\n",
              "      <td>0.000000</td>\n",
              "      <td>0.000000</td>\n",
              "    </tr>\n",
              "    <tr>\n",
              "      <th>50%</th>\n",
              "      <td>91.600000</td>\n",
              "      <td>108.300000</td>\n",
              "      <td>664.200000</td>\n",
              "      <td>8.400000</td>\n",
              "      <td>19.300000</td>\n",
              "      <td>42.000000</td>\n",
              "      <td>4.000000</td>\n",
              "      <td>0.000000</td>\n",
              "      <td>0.520000</td>\n",
              "    </tr>\n",
              "    <tr>\n",
              "      <th>75%</th>\n",
              "      <td>92.900000</td>\n",
              "      <td>142.400000</td>\n",
              "      <td>713.900000</td>\n",
              "      <td>10.800000</td>\n",
              "      <td>22.800000</td>\n",
              "      <td>53.000000</td>\n",
              "      <td>4.900000</td>\n",
              "      <td>0.000000</td>\n",
              "      <td>6.570000</td>\n",
              "    </tr>\n",
              "    <tr>\n",
              "      <th>max</th>\n",
              "      <td>96.200000</td>\n",
              "      <td>291.300000</td>\n",
              "      <td>860.600000</td>\n",
              "      <td>56.100000</td>\n",
              "      <td>33.300000</td>\n",
              "      <td>100.000000</td>\n",
              "      <td>9.400000</td>\n",
              "      <td>6.400000</td>\n",
              "      <td>1090.840000</td>\n",
              "    </tr>\n",
              "  </tbody>\n",
              "</table>\n",
              "</div>"
            ],
            "text/plain": [
              "             FFMC         DMC          DC  ...        wind        rain         area\n",
              "count  517.000000  517.000000  517.000000  ...  517.000000  517.000000   517.000000\n",
              "mean    90.644681  110.872340  547.940039  ...    4.017602    0.021663    12.847292\n",
              "std      5.520111   64.046482  248.066192  ...    1.791653    0.295959    63.655818\n",
              "min     18.700000    1.100000    7.900000  ...    0.400000    0.000000     0.000000\n",
              "25%     90.200000   68.600000  437.700000  ...    2.700000    0.000000     0.000000\n",
              "50%     91.600000  108.300000  664.200000  ...    4.000000    0.000000     0.520000\n",
              "75%     92.900000  142.400000  713.900000  ...    4.900000    0.000000     6.570000\n",
              "max     96.200000  291.300000  860.600000  ...    9.400000    6.400000  1090.840000\n",
              "\n",
              "[8 rows x 9 columns]"
            ]
          },
          "metadata": {},
          "execution_count": 27
        }
      ]
    },
    {
      "cell_type": "code",
      "metadata": {
        "colab": {
          "base_uri": "https://localhost:8080/"
        },
        "id": "1SBqtOIRReW6",
        "outputId": "ee01f530-2e29-4a53-f9e0-c411784db73e"
      },
      "source": [
        "forest.info()"
      ],
      "execution_count": null,
      "outputs": [
        {
          "output_type": "stream",
          "name": "stdout",
          "text": [
            "<class 'pandas.core.frame.DataFrame'>\n",
            "RangeIndex: 517 entries, 0 to 516\n",
            "Data columns (total 11 columns):\n",
            " #   Column  Non-Null Count  Dtype  \n",
            "---  ------  --------------  -----  \n",
            " 0   month   517 non-null    object \n",
            " 1   day     517 non-null    object \n",
            " 2   FFMC    517 non-null    float64\n",
            " 3   DMC     517 non-null    float64\n",
            " 4   DC      517 non-null    float64\n",
            " 5   ISI     517 non-null    float64\n",
            " 6   temp    517 non-null    float64\n",
            " 7   RH      517 non-null    int64  \n",
            " 8   wind    517 non-null    float64\n",
            " 9   rain    517 non-null    float64\n",
            " 10  area    517 non-null    float64\n",
            "dtypes: float64(8), int64(1), object(2)\n",
            "memory usage: 44.6+ KB\n"
          ]
        }
      ]
    },
    {
      "cell_type": "code",
      "metadata": {
        "colab": {
          "base_uri": "https://localhost:8080/",
          "height": 406
        },
        "id": "HJpa-5h2Rf7z",
        "outputId": "1d2e1347-fc5c-42cc-aaa0-121f6f8bd3ff"
      },
      "source": [
        "plt.boxplot(forest.area) #finding the outliers"
      ],
      "execution_count": null,
      "outputs": [
        {
          "output_type": "execute_result",
          "data": {
            "text/plain": [
              "{'boxes': [<matplotlib.lines.Line2D at 0x7f6295ac9ed0>],\n",
              " 'caps': [<matplotlib.lines.Line2D at 0x7f6295ad0f50>,\n",
              "  <matplotlib.lines.Line2D at 0x7f6295adb4d0>],\n",
              " 'fliers': [<matplotlib.lines.Line2D at 0x7f6295adbf90>],\n",
              " 'means': [],\n",
              " 'medians': [<matplotlib.lines.Line2D at 0x7f6295adba50>],\n",
              " 'whiskers': [<matplotlib.lines.Line2D at 0x7f6295ad04d0>,\n",
              "  <matplotlib.lines.Line2D at 0x7f6295ad0a10>]}"
            ]
          },
          "metadata": {},
          "execution_count": 29
        },
        {
          "output_type": "display_data",
          "data": {
            "image/png": "[encoded data removed]",
            "text/plain": [
              "<Figure size 432x288 with 1 Axes>"
            ]
          },
          "metadata": {
            "needs_background": "light"
          }
        }
      ]
    },
    {
      "cell_type": "code",
      "metadata": {
        "colab": {
          "base_uri": "https://localhost:8080/"
        },
        "id": "KAbTPOf1Rslh",
        "outputId": "722680b9-9678-4593-95f5-015ac060daf5"
      },
      "source": [
        "forest.shape"
      ],
      "execution_count": null,
      "outputs": [
        {
          "output_type": "execute_result",
          "data": {
            "text/plain": [
              "(517, 11)"
            ]
          },
          "metadata": {},
          "execution_count": 30
        }
      ]
    },
    {
      "cell_type": "code",
      "metadata": {
        "id": "YHH0JE5CIMtH"
      },
      "source": [
        "le = LabelEncoder() #converting into categorical data"
      ],
      "execution_count": null,
      "outputs": []
    },
    {
      "cell_type": "code",
      "metadata": {
        "id": "8-VqvubHIXqL"
      },
      "source": [
        "forest['month'] = le.fit_transform(forest['month'])\n",
        "forest['day'] = le.fit_transform(forest['day'])"
      ],
      "execution_count": null,
      "outputs": []
    },
    {
      "cell_type": "code",
      "metadata": {
        "id": "OWmck4wKIpWb"
      },
      "source": [
        "std = MinMaxScaler() #transforming into standard data between the range of (0,1)\n",
        "std_fire = std.fit_transform(forest)"
      ],
      "execution_count": null,
      "outputs": []
    },
    {
      "cell_type": "code",
      "metadata": {
        "id": "qv2JupcdJ3JE"
      },
      "source": [
        "col = forest.columns"
      ],
      "execution_count": null,
      "outputs": []
    },
    {
      "cell_type": "code",
      "metadata": {
        "id": "Nra8U0PRI0JX"
      },
      "source": [
        "std_fire = pd.DataFrame(std_fire,columns=col) #forming of dataframe from array value"
      ],
      "execution_count": null,
      "outputs": []
    },
    {
      "cell_type": "code",
      "metadata": {
        "colab": {
          "base_uri": "https://localhost:8080/",
          "height": 203
        },
        "id": "_3YVIX_KI2M-",
        "outputId": "83c17299-5816-4883-8dc5-4af91a5f83ef"
      },
      "source": [
        "std_fire.head()"
      ],
      "execution_count": null,
      "outputs": [
        {
          "output_type": "execute_result",
          "data": {
            "text/html": [
              "<div>\n",
              "<style scoped>\n",
              "    .dataframe tbody tr th:only-of-type {\n",
              "        vertical-align: middle;\n",
              "    }\n",
              "\n",
              "    .dataframe tbody tr th {\n",
              "        vertical-align: top;\n",
              "    }\n",
              "\n",
              "    .dataframe thead th {\n",
              "        text-align: right;\n",
              "    }\n",
              "</style>\n",
              "<table border=\"1\" class=\"dataframe\">\n",
              "  <thead>\n",
              "    <tr style=\"text-align: right;\">\n",
              "      <th></th>\n",
              "      <th>month</th>\n",
              "      <th>day</th>\n",
              "      <th>FFMC</th>\n",
              "      <th>DMC</th>\n",
              "      <th>DC</th>\n",
              "      <th>ISI</th>\n",
              "      <th>temp</th>\n",
              "      <th>RH</th>\n",
              "      <th>wind</th>\n",
              "      <th>rain</th>\n",
              "      <th>area</th>\n",
              "    </tr>\n",
              "  </thead>\n",
              "  <tbody>\n",
              "    <tr>\n",
              "      <th>0</th>\n",
              "      <td>0.636364</td>\n",
              "      <td>0.000000</td>\n",
              "      <td>0.870968</td>\n",
              "      <td>0.086492</td>\n",
              "      <td>0.101325</td>\n",
              "      <td>0.090909</td>\n",
              "      <td>0.192926</td>\n",
              "      <td>0.423529</td>\n",
              "      <td>0.700000</td>\n",
              "      <td>0.00000</td>\n",
              "      <td>0.0</td>\n",
              "    </tr>\n",
              "    <tr>\n",
              "      <th>1</th>\n",
              "      <td>0.909091</td>\n",
              "      <td>0.833333</td>\n",
              "      <td>0.927742</td>\n",
              "      <td>0.118194</td>\n",
              "      <td>0.775419</td>\n",
              "      <td>0.119430</td>\n",
              "      <td>0.508039</td>\n",
              "      <td>0.211765</td>\n",
              "      <td>0.055556</td>\n",
              "      <td>0.00000</td>\n",
              "      <td>0.0</td>\n",
              "    </tr>\n",
              "    <tr>\n",
              "      <th>2</th>\n",
              "      <td>0.909091</td>\n",
              "      <td>0.333333</td>\n",
              "      <td>0.927742</td>\n",
              "      <td>0.146795</td>\n",
              "      <td>0.796294</td>\n",
              "      <td>0.119430</td>\n",
              "      <td>0.398714</td>\n",
              "      <td>0.211765</td>\n",
              "      <td>0.100000</td>\n",
              "      <td>0.00000</td>\n",
              "      <td>0.0</td>\n",
              "    </tr>\n",
              "    <tr>\n",
              "      <th>3</th>\n",
              "      <td>0.636364</td>\n",
              "      <td>0.000000</td>\n",
              "      <td>0.941935</td>\n",
              "      <td>0.110958</td>\n",
              "      <td>0.081623</td>\n",
              "      <td>0.160428</td>\n",
              "      <td>0.196141</td>\n",
              "      <td>0.964706</td>\n",
              "      <td>0.400000</td>\n",
              "      <td>0.03125</td>\n",
              "      <td>0.0</td>\n",
              "    </tr>\n",
              "    <tr>\n",
              "      <th>4</th>\n",
              "      <td>0.636364</td>\n",
              "      <td>0.500000</td>\n",
              "      <td>0.910968</td>\n",
              "      <td>0.172984</td>\n",
              "      <td>0.110590</td>\n",
              "      <td>0.171123</td>\n",
              "      <td>0.295820</td>\n",
              "      <td>0.988235</td>\n",
              "      <td>0.155556</td>\n",
              "      <td>0.00000</td>\n",
              "      <td>0.0</td>\n",
              "    </tr>\n",
              "  </tbody>\n",
              "</table>\n",
              "</div>"
            ],
            "text/plain": [
              "      month       day      FFMC       DMC  ...        RH      wind     rain  area\n",
              "0  0.636364  0.000000  0.870968  0.086492  ...  0.423529  0.700000  0.00000   0.0\n",
              "1  0.909091  0.833333  0.927742  0.118194  ...  0.211765  0.055556  0.00000   0.0\n",
              "2  0.909091  0.333333  0.927742  0.146795  ...  0.211765  0.100000  0.00000   0.0\n",
              "3  0.636364  0.000000  0.941935  0.110958  ...  0.964706  0.400000  0.03125   0.0\n",
              "4  0.636364  0.500000  0.910968  0.172984  ...  0.988235  0.155556  0.00000   0.0\n",
              "\n",
              "[5 rows x 11 columns]"
            ]
          },
          "metadata": {},
          "execution_count": 36
        }
      ]
    },
    {
      "cell_type": "code",
      "metadata": {
        "id": "WX16GhZMKA-2"
      },
      "source": [
        "X = std_fire.iloc[:,0:10] #seperating into features and labels\n",
        "Y = std_fire.iloc[:,10]"
      ],
      "execution_count": null,
      "outputs": []
    },
    {
      "cell_type": "code",
      "metadata": {
        "colab": {
          "base_uri": "https://localhost:8080/",
          "height": 203
        },
        "id": "tdy4y1HZLwJj",
        "outputId": "20087a28-4268-401d-e19b-af3e75f88dce"
      },
      "source": [
        "X.head()"
      ],
      "execution_count": null,
      "outputs": [
        {
          "output_type": "execute_result",
          "data": {
            "text/html": [
              "<div>\n",
              "<style scoped>\n",
              "    .dataframe tbody tr th:only-of-type {\n",
              "        vertical-align: middle;\n",
              "    }\n",
              "\n",
              "    .dataframe tbody tr th {\n",
              "        vertical-align: top;\n",
              "    }\n",
              "\n",
              "    .dataframe thead th {\n",
              "        text-align: right;\n",
              "    }\n",
              "</style>\n",
              "<table border=\"1\" class=\"dataframe\">\n",
              "  <thead>\n",
              "    <tr style=\"text-align: right;\">\n",
              "      <th></th>\n",
              "      <th>month</th>\n",
              "      <th>day</th>\n",
              "      <th>FFMC</th>\n",
              "      <th>DMC</th>\n",
              "      <th>DC</th>\n",
              "      <th>ISI</th>\n",
              "      <th>temp</th>\n",
              "      <th>RH</th>\n",
              "      <th>wind</th>\n",
              "      <th>rain</th>\n",
              "    </tr>\n",
              "  </thead>\n",
              "  <tbody>\n",
              "    <tr>\n",
              "      <th>0</th>\n",
              "      <td>0.636364</td>\n",
              "      <td>0.000000</td>\n",
              "      <td>0.870968</td>\n",
              "      <td>0.086492</td>\n",
              "      <td>0.101325</td>\n",
              "      <td>0.090909</td>\n",
              "      <td>0.192926</td>\n",
              "      <td>0.423529</td>\n",
              "      <td>0.700000</td>\n",
              "      <td>0.00000</td>\n",
              "    </tr>\n",
              "    <tr>\n",
              "      <th>1</th>\n",
              "      <td>0.909091</td>\n",
              "      <td>0.833333</td>\n",
              "      <td>0.927742</td>\n",
              "      <td>0.118194</td>\n",
              "      <td>0.775419</td>\n",
              "      <td>0.119430</td>\n",
              "      <td>0.508039</td>\n",
              "      <td>0.211765</td>\n",
              "      <td>0.055556</td>\n",
              "      <td>0.00000</td>\n",
              "    </tr>\n",
              "    <tr>\n",
              "      <th>2</th>\n",
              "      <td>0.909091</td>\n",
              "      <td>0.333333</td>\n",
              "      <td>0.927742</td>\n",
              "      <td>0.146795</td>\n",
              "      <td>0.796294</td>\n",
              "      <td>0.119430</td>\n",
              "      <td>0.398714</td>\n",
              "      <td>0.211765</td>\n",
              "      <td>0.100000</td>\n",
              "      <td>0.00000</td>\n",
              "    </tr>\n",
              "    <tr>\n",
              "      <th>3</th>\n",
              "      <td>0.636364</td>\n",
              "      <td>0.000000</td>\n",
              "      <td>0.941935</td>\n",
              "      <td>0.110958</td>\n",
              "      <td>0.081623</td>\n",
              "      <td>0.160428</td>\n",
              "      <td>0.196141</td>\n",
              "      <td>0.964706</td>\n",
              "      <td>0.400000</td>\n",
              "      <td>0.03125</td>\n",
              "    </tr>\n",
              "    <tr>\n",
              "      <th>4</th>\n",
              "      <td>0.636364</td>\n",
              "      <td>0.500000</td>\n",
              "      <td>0.910968</td>\n",
              "      <td>0.172984</td>\n",
              "      <td>0.110590</td>\n",
              "      <td>0.171123</td>\n",
              "      <td>0.295820</td>\n",
              "      <td>0.988235</td>\n",
              "      <td>0.155556</td>\n",
              "      <td>0.00000</td>\n",
              "    </tr>\n",
              "  </tbody>\n",
              "</table>\n",
              "</div>"
            ],
            "text/plain": [
              "      month       day      FFMC  ...        RH      wind     rain\n",
              "0  0.636364  0.000000  0.870968  ...  0.423529  0.700000  0.00000\n",
              "1  0.909091  0.833333  0.927742  ...  0.211765  0.055556  0.00000\n",
              "2  0.909091  0.333333  0.927742  ...  0.211765  0.100000  0.00000\n",
              "3  0.636364  0.000000  0.941935  ...  0.964706  0.400000  0.03125\n",
              "4  0.636364  0.500000  0.910968  ...  0.988235  0.155556  0.00000\n",
              "\n",
              "[5 rows x 10 columns]"
            ]
          },
          "metadata": {},
          "execution_count": 38
        }
      ]
    },
    {
      "cell_type": "code",
      "metadata": {
        "colab": {
          "base_uri": "https://localhost:8080/"
        },
        "id": "7H8e5Uy9WaBN",
        "outputId": "0811b9b5-04b8-43d7-86a6-05046f19f94c"
      },
      "source": [
        "Y"
      ],
      "execution_count": null,
      "outputs": [
        {
          "output_type": "execute_result",
          "data": {
            "text/plain": [
              "0      0.000000\n",
              "1      0.000000\n",
              "2      0.000000\n",
              "3      0.000000\n",
              "4      0.000000\n",
              "         ...   \n",
              "512    0.005904\n",
              "513    0.049769\n",
              "514    0.010231\n",
              "515    0.000000\n",
              "516    0.000000\n",
              "Name: area, Length: 517, dtype: float64"
            ]
          },
          "metadata": {},
          "execution_count": 43
        }
      ]
    },
    {
      "cell_type": "code",
      "metadata": {
        "id": "lEwqbZBAKcKx"
      },
      "source": [
        "x_train,x_test,y_train,y_test = train_test_split(X,Y,test_size=0.2,random_state=42) #train test split of data"
      ],
      "execution_count": null,
      "outputs": []
    },
    {
      "cell_type": "code",
      "metadata": {
        "colab": {
          "base_uri": "https://localhost:8080/"
        },
        "id": "I4_13TM7K4rt",
        "outputId": "d87ac34f-3797-4884-9044-4e8cf658e437"
      },
      "source": [
        "model = SVR() #finding the optimum hyperparameter using gridsearchcv\n",
        "param_grid = dict({'C':[0.1,1,5,3,10],'gamma':[1,0.1,5,50,2]})\n",
        "grid = GridSearchCV(estimator=model,param_grid=param_grid,cv=5)\n",
        "grid.fit(x_train,y_train)"
      ],
      "execution_count": null,
      "outputs": [
        {
          "output_type": "execute_result",
          "data": {
            "text/plain": [
              "GridSearchCV(cv=5, error_score=nan,\n",
              "             estimator=SVR(C=1.0, cache_size=200, coef0=0.0, degree=3,\n",
              "                           epsilon=0.1, gamma='scale', kernel='rbf',\n",
              "                           max_iter=-1, shrinking=True, tol=0.001,\n",
              "                           verbose=False),\n",
              "             iid='deprecated', n_jobs=None,\n",
              "             param_grid={'C': [0.1, 1, 5, 3, 10], 'gamma': [1, 0.1, 5, 50, 2]},\n",
              "             pre_dispatch='2*n_jobs', refit=True, return_train_score=False,\n",
              "             scoring=None, verbose=0)"
            ]
          },
          "metadata": {},
          "execution_count": 46
        }
      ]
    },
    {
      "cell_type": "code",
      "metadata": {
        "colab": {
          "base_uri": "https://localhost:8080/"
        },
        "id": "QBXio5sdXy7e",
        "outputId": "d42dc564-af41-4d52-ec32-6ccf434bb175"
      },
      "source": [
        "print('best parameters are',grid.best_params_)"
      ],
      "execution_count": null,
      "outputs": [
        {
          "output_type": "stream",
          "name": "stdout",
          "text": [
            "best parameters are {'C': 3, 'gamma': 2}\n"
          ]
        }
      ]
    },
    {
      "cell_type": "code",
      "metadata": {
        "colab": {
          "base_uri": "https://localhost:8080/"
        },
        "id": "cls-xx7vX5fi",
        "outputId": "069f2153-a40e-4721-a917-612b3ff9cec9"
      },
      "source": [
        "svr = SVR(C=3,kernel='rbf',gamma=2) #model building\n",
        "svr.fit(x_train,y_train)"
      ],
      "execution_count": null,
      "outputs": [
        {
          "output_type": "execute_result",
          "data": {
            "text/plain": [
              "SVR(C=3, cache_size=200, coef0=0.0, degree=3, epsilon=0.1, gamma=2,\n",
              "    kernel='rbf', max_iter=-1, shrinking=True, tol=0.001, verbose=False)"
            ]
          },
          "metadata": {},
          "execution_count": 48
        }
      ]
    },
    {
      "cell_type": "code",
      "metadata": {
        "id": "LkiWQhjfYKmV"
      },
      "source": [
        "pred = svr.predict(x_test) #predicting"
      ],
      "execution_count": null,
      "outputs": []
    },
    {
      "cell_type": "code",
      "metadata": {
        "colab": {
          "base_uri": "https://localhost:8080/"
        },
        "id": "S4QJbMn5Yi4e",
        "outputId": "dd2645a7-da1b-47d6-bd1e-0a1cb43b0662"
      },
      "source": [
        "from sklearn.metrics import mean_squared_error as mse # to check the error\n",
        "error = mse(y_test,pred)\n",
        "print(error)"
      ],
      "execution_count": null,
      "outputs": [
        {
          "output_type": "stream",
          "name": "stdout",
          "text": [
            "0.011570128526511127\n"
          ]
        }
      ]
    },
    {
      "cell_type": "code",
      "metadata": {
        "id": "rFSO2g0NYvkt"
      },
      "source": [
        ""
      ],
      "execution_count": null,
      "outputs": []
    }
  ]
}